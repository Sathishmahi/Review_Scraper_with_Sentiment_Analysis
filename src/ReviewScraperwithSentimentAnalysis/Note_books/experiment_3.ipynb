{
 "cells": [
  {
   "cell_type": "code",
   "execution_count": 5,
   "metadata": {},
   "outputs": [],
   "source": [
    "from ReviewScraperwithSentimentAnalysis.config import Configuration"
   ]
  },
  {
   "cell_type": "code",
   "execution_count": 6,
   "metadata": {},
   "outputs": [],
   "source": [
    "c=Configuration()"
   ]
  },
  {
   "cell_type": "code",
   "execution_count": 7,
   "metadata": {},
   "outputs": [
    {
     "data": {
      "text/plain": [
       "DataIngestionConfig(root_dir='artifact/data_ingestion', review_file_path='artifact/data_ingestion/review.csv', extract_image_dir_name='artifact/data_ingestion/images', extract_product_csv_file_name='artifact/data_ingestion/extract_product.csv')"
      ]
     },
     "execution_count": 7,
     "metadata": {},
     "output_type": "execute_result"
    }
   ],
   "source": [
    "c.get_data_ingestion_config()"
   ]
  },
  {
   "cell_type": "code",
   "execution_count": 2,
   "metadata": {},
   "outputs": [
    {
     "name": "stdout",
     "output_type": "stream",
     "text": [
      "app.py\t  demo.pkl\t       experiments_2.ipynb  logging\n",
      "artifact  experiment_3.ipynb   __init__.py\t    logs\n",
      "demo.log  experiments_1.ipynb  large_df.csv\n"
     ]
    }
   ],
   "source": [
    "!ls"
   ]
  },
  {
   "cell_type": "code",
   "execution_count": null,
   "metadata": {},
   "outputs": [],
   "source": [
    "!npm install localtunnel"
   ]
  },
  {
   "cell_type": "code",
   "execution_count": null,
   "metadata": {},
   "outputs": [],
   "source": [
    "!streamlit run /config/workspace/src/ReviewScraperwithSentimentAnalysis/Note_books/app_1.py --server.port 8501 & npx localtunnel -p 8501"
   ]
  },
  {
   "cell_type": "code",
   "execution_count": 2,
   "metadata": {},
   "outputs": [],
   "source": [
    "import pandas as pd\n",
    "try:\n",
    "    read_csv_encode=lambda fp: pd.read_csv(fp).encode(\"utf-8\")\n",
    "except FileNotFoundError as e:\n",
    "    print(e)\n",
    "    # raise e"
   ]
  },
  {
   "cell_type": "code",
   "execution_count": null,
   "metadata": {},
   "outputs": [],
   "source": [
    "read_csv_encode(\"dmeo.csv\")"
   ]
  },
  {
   "cell_type": "code",
   "execution_count": 3,
   "metadata": {},
   "outputs": [],
   "source": [
    "df=pd.read_csv(\"/config/workspace/artifact/data_ingestion/extract_product.csv\")"
   ]
  },
  {
   "cell_type": "code",
   "execution_count": 4,
   "metadata": {},
   "outputs": [
    {
     "data": {
      "text/plain": [
       "Index(['image_url', 'model_name', 'model_details', 'over_all_reviews',\n",
       "       'product_cost', 'product_offer', 'free_delivery_list'],\n",
       "      dtype='object')"
      ]
     },
     "execution_count": 4,
     "metadata": {},
     "output_type": "execute_result"
    }
   ],
   "source": [
    "df.columns"
   ]
  },
  {
   "cell_type": "code",
   "execution_count": 6,
   "metadata": {},
   "outputs": [],
   "source": [
    "df[\"image_url\"]=df[\"image_url\"].apply(lambda url : f'<a href=\"{url}\" target=\"_blank\">{url}</a>')"
   ]
  },
  {
   "cell_type": "code",
   "execution_count": null,
   "metadata": {},
   "outputs": [],
   "source": [
    "print(df.to_markdown())"
   ]
  },
  {
   "cell_type": "code",
   "execution_count": 10,
   "metadata": {},
   "outputs": [],
   "source": [
    "from ReviewScraperwithSentimentAnalysis.config import Configuration"
   ]
  },
  {
   "cell_type": "code",
   "execution_count": 13,
   "metadata": {},
   "outputs": [],
   "source": [
    "from collections import namedtuple"
   ]
  },
  {
   "cell_type": "code",
   "execution_count": 23,
   "metadata": {},
   "outputs": [],
   "source": [
    "s1=namedtuple(\"Studen_details\",[\"name\"])"
   ]
  },
  {
   "cell_type": "code",
   "execution_count": 24,
   "metadata": {},
   "outputs": [],
   "source": [
    "s2=s1([\"sathish\"])"
   ]
  },
  {
   "cell_type": "code",
   "execution_count": 26,
   "metadata": {},
   "outputs": [
    {
     "data": {
      "text/plain": [
       "True"
      ]
     },
     "execution_count": 26,
     "metadata": {},
     "output_type": "execute_result"
    }
   ],
   "source": [
    "isinstance(s2,s1)"
   ]
  },
  {
   "cell_type": "code",
   "execution_count": 28,
   "metadata": {},
   "outputs": [],
   "source": [
    "import pickle\n",
    "d={\"name\":\"sathish\"}\n",
    "with open(\"demo.pkl\",\"wb\") as f:\n",
    "    pickle.dump(d,f)"
   ]
  },
  {
   "cell_type": "code",
   "execution_count": 63,
   "metadata": {},
   "outputs": [],
   "source": [
    "with open(\"/config/workspace/tests/unit/temp/test_1.pkl\",\"rb\") as f:\n",
    "    d=pickle.load(f)"
   ]
  },
  {
   "cell_type": "code",
   "execution_count": 67,
   "metadata": {},
   "outputs": [
    {
     "data": {
      "text/plain": [
       "[0, 1, 2, 3, 4, 5, 6, 7, 8, 9]"
      ]
     },
     "execution_count": 67,
     "metadata": {},
     "output_type": "execute_result"
    }
   ],
   "source": [
    "d.values[0]"
   ]
  },
  {
   "cell_type": "code",
   "execution_count": 50,
   "metadata": {},
   "outputs": [
    {
     "data": {
      "text/plain": [
       "pandas.core.frame.DataFrame"
      ]
     },
     "execution_count": 50,
     "metadata": {},
     "output_type": "execute_result"
    }
   ],
   "source": [
    "type(d)"
   ]
  },
  {
   "cell_type": "code",
   "execution_count": 54,
   "metadata": {},
   "outputs": [
    {
     "data": {
      "text/plain": [
       "[0, 1, 2, 3, 4, 5, 6, 7, 8, 9]"
      ]
     },
     "execution_count": 54,
     "metadata": {},
     "output_type": "execute_result"
    }
   ],
   "source": [
    "list(d.column_1.values)"
   ]
  },
  {
   "cell_type": "code",
   "execution_count": 42,
   "metadata": {},
   "outputs": [
    {
     "data": {
      "text/plain": [
       "0    sathish\n",
       "1      kumar\n",
       "dtype: object"
      ]
     },
     "execution_count": 42,
     "metadata": {},
     "output_type": "execute_result"
    }
   ],
   "source": []
  },
  {
   "cell_type": "code",
   "execution_count": 38,
   "metadata": {},
   "outputs": [
    {
     "data": {
      "text/plain": [
       "Index(['names'], dtype='object')"
      ]
     },
     "execution_count": 38,
     "metadata": {},
     "output_type": "execute_result"
    }
   ],
   "source": [
    "se.index"
   ]
  },
  {
   "cell_type": "code",
   "execution_count": 1,
   "metadata": {},
   "outputs": [],
   "source": [
    "# pd.DataFrame(\"jsjsj\")\n",
    "li=['1-camera awesome 2- battery 🔋 better performance3- processor best performance 4-speaker okk5-Display awesome6-mobile design super❤❤❤❤Overall redmi note 12 is too good and valuable for money 💕💕💕💕💕💕👍👍👍👍👍👍👍👍👍👍👍👍👍👍👍👍👍👍👍👍👍👍👍👍👍👍👍👍👍👍👍👍👍👍👍👍👍👍👍👍👍👍👍👍👌👌👌👌👌👌👌👌👌👌👌👌👌👌👌', \"Mobile look wise is awesome and display is good and battery is good but performance wise it's not good and the sound quality is also poor.\", \n",
    "'Redmi mobile all note series to good. Redmi note 12 so nice all rounder 4g smart phone. But camera only good. So improve camera section. Thanks to flipcart lowest price and exchange policy. To good. Thnks flipcart.',\n",
    " 'What a design , Just killer design , battery good , charging speed good , display is top notch 👌🏻👌🏻👌🏻👌🏻 just liked the device , very much . 4 star out of 5 star 🌟🌟🌟🌟', 'Giving review post use 2days1 - Camera quality Awesome. You can zoom the picture which I post and can check the quality. Even skin cells also visible clearly if you take snap in 50mp2 - Battery quality is good. Post full charge getting 1.5 days service. 3 - Design cool look. Colour also very nice. 4 - Touch screen performance also very good. I am Happy. I got what I expected. 👍', \"nan\", 'Redmi note 12 4G very good phone latest version Android 13 Miui 14 virgin super amoled display video performance very good processor Snapdragon 685 very smooth experience Flipkart delivery very fast 2 working days and mobile is okay mobile charger 33 watt 0 to 100% battery charge up to 1 hour 10 minute battery backup 100 to 0% battery drain 13 hour very good battery backupThanks Flipkart team 💯👌👌', 'Many people have enjoyed running this Redmi phone and it is very good this fon is Amazing👍😍👍 and very very good this mobile and so fust raning this fone and quick charge mobile', 'Review after 1 week usage..Nice phone... Complete satisfaction.. Pros- Nice front camera so good quality pics, Battery long last for 1 to 2 days.. slim and light weight,  nice features, trusted brand as usual.. Cons: No 5g support, battery charting takes more than 2hrs to get 100% fully charged. Price is more compared to other brands', \"I'm thoroughly impressed with this phone. The sleek design and vibrant display make it a joy to use. The camera quality is amazing and captures stunning photos even in low light settings. It's also equipped with a long-lasting battery that can easily last a full day on a single charge, which is extremely convenient for someone who is always on the go.One of the standout features of this phone is its fast and efficient performance. Apps open quickly and run smoothly without any lag or delay....\", \n",
    "'no review']"
   ]
  },
  {
   "cell_type": "code",
   "execution_count": 3,
   "metadata": {},
   "outputs": [],
   "source": [
    "a=[1]\n",
    "if not len(a):\n",
    "    e=ValueError(\"a is empty\")\n",
    "    raise e"
   ]
  },
  {
   "cell_type": "code",
   "execution_count": null,
   "metadata": {},
   "outputs": [],
   "source": []
  }
 ],
 "metadata": {
  "kernelspec": {
   "display_name": "Python 3.10.11 64-bit ('venv')",
   "language": "python",
   "name": "python3"
  },
  "language_info": {
   "codemirror_mode": {
    "name": "ipython",
    "version": 3
   },
   "file_extension": ".py",
   "mimetype": "text/x-python",
   "name": "python",
   "nbconvert_exporter": "python",
   "pygments_lexer": "ipython3",
   "version": "3.10.11"
  },
  "orig_nbformat": 4,
  "vscode": {
   "interpreter": {
    "hash": "1762875d695c3b8ce31fc2c385c40c45ae7c7b01a87f50658d419512c57bca88"
   }
  }
 },
 "nbformat": 4,
 "nbformat_minor": 2
}
