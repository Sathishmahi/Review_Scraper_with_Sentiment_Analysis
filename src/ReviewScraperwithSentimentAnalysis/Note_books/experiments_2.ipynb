{
 "cells": [
  {
   "cell_type": "code",
   "execution_count": 2,
   "metadata": {},
   "outputs": [],
   "source": [
    "import pandas as pd"
   ]
  },
  {
   "cell_type": "code",
   "execution_count": 34,
   "metadata": {},
   "outputs": [],
   "source": [
    "df=pd.read_csv(\"artifact/data_ingestion/review.csv\")"
   ]
  },
  {
   "cell_type": "code",
   "execution_count": 32,
   "metadata": {},
   "outputs": [
    {
     "data": {
      "text/plain": [
       "Index(['review'], dtype='object')"
      ]
     },
     "execution_count": 32,
     "metadata": {},
     "output_type": "execute_result"
    }
   ],
   "source": [
    "df.columns"
   ]
  },
  {
   "cell_type": "code",
   "execution_count": 27,
   "metadata": {},
   "outputs": [],
   "source": [
    "df['review'][0]=\"🥰🥰🥰🥰🥰Camera quality 🥰🔋😍😍\""
   ]
  },
  {
   "cell_type": "code",
   "execution_count": 28,
   "metadata": {},
   "outputs": [
    {
     "data": {
      "text/plain": [
       "0                              🥰🥰🥰🥰🥰Camera quality 🥰🔋😍😍\n",
       "1     very good mobile,never expected like this good...\n",
       "2     My GF is very happy with this.phone is good lo...\n",
       "3     Camera: very good Battery : I expect betterSou...\n",
       "4     ✓ it's just awesome.✓ worth of money.✓ people ...\n",
       "5     pros : mobile is pretty good with smooth perfo...\n",
       "6     the mobile is super smooth in performance,  ca...\n",
       "7     after using 8 day's my honest review.....Displ...\n",
       "8     phone is good but battery life is worst. 4000M...\n",
       "9     it's good , sound is good no issues like 5 pro...\n",
       "10                                            no review\n",
       "Name: review, dtype: object"
      ]
     },
     "execution_count": 28,
     "metadata": {},
     "output_type": "execute_result"
    }
   ],
   "source": [
    "df['review']"
   ]
  },
  {
   "cell_type": "code",
   "execution_count": null,
   "metadata": {},
   "outputs": [],
   "source": [
    "df['review'].apply(lambda s : s.encode('ascii','ignore').decode())\n"
   ]
  },
  {
   "cell_type": "code",
   "execution_count": 35,
   "metadata": {},
   "outputs": [],
   "source": [
    "df=pd.read_csv(\"artifact/data_ingestion/review.csv\",usecols=['review'])"
   ]
  },
  {
   "cell_type": "code",
   "execution_count": 44,
   "metadata": {},
   "outputs": [],
   "source": [
    "def demo(a:tuple[list]):\n",
    "    ...\n",
    "demo('je')"
   ]
  },
  {
   "cell_type": "code",
   "execution_count": 45,
   "metadata": {},
   "outputs": [],
   "source": [
    "review_list=pd.Series(df.iloc[:,0]).to_list()"
   ]
  },
  {
   "cell_type": "code",
   "execution_count": 46,
   "metadata": {},
   "outputs": [],
   "source": [
    "com_li,full_li=[],[]\n",
    "for review in review_list:\n",
    "    com_li.append(review.split(','))\n",
    "    full_li.append(review.split('.'))"
   ]
  },
  {
   "cell_type": "code",
   "execution_count": 52,
   "metadata": {},
   "outputs": [],
   "source": [
    "com_li,full_li=[],[]\n",
    "nothing=[(com_li.append(review.split(',')),full_li.append(review.split('.'))) for review in review_list ]\n",
    "del nothing"
   ]
  },
  {
   "cell_type": "code",
   "execution_count": 53,
   "metadata": {},
   "outputs": [
    {
     "data": {
      "text/plain": [
       "[['Here is my first impressions after a few days of usage of Redmi Note 7S mobile phone',\n",
       "  ' I bought 4GB of RAM and 64GB storage variant',\n",
       "  ' Pros: * The build quality of the Redmi Note 7S is great considering its price',\n",
       "  ' The overall fit and finish is impeccable and all the metal and glass does make the Note 7S look and feel in hands a more premium phone',\n",
       "  ' * It has corning gorilla glass 5 protection at the front as well as back',\n",
       "  '* The display sports a full HD+ (1080x2340 pixels) resolution and has a ',\n",
       "  '',\n",
       "  '',\n",
       "  ''],\n",
       " ['very good mobile,never expected like this good one from Xiaomi, thank you to Flipkart, delivery was good and the delivery person is ,so good'],\n",
       " ['My GF is very happy with this',\n",
       "  'phone is good look is also goodcamera is also very good better option for note 7 pro',\n",
       "  'go for it',\n",
       "  'camera',\n",
       "  ' 4',\n",
       "  '5battery 4display 4value for money 4',\n",
       "  '8'],\n",
       " ['Camera: very good Battery : I expect betterSound',\n",
       "  ' : is perfectly fine Overall performance everything is perfect from my part'],\n",
       " [\"✓ it's just awesome\",\n",
       "  '✓ worth of money',\n",
       "  \"✓ people who look for all like cam, battery, Ram, ROM    price it's fit for that\",\n",
       "  \"✓ it's closer to note 7,7pro 4gb ram because of just  small difference in , processor is 672 but 7s has 660 but costs 2000rs less\",\n",
       "  '✓ clock speed is 2',\n",
       "  '2GHZ in which 7pro has 2GHZ',\n",
       "  '✓ Just 70min for full charge from 5-100%',\n",
       "  '✓ Thank you Flipkart',\n",
       "  '✓ All Rounder product',\n",
       "  '✓ prefer black or white',\n",
       "  ''],\n",
       " ['pros : mobile is pretty good with smooth performance and good display camera is good under light conditions avg in low light conditions no hanging of mobilecons :battery is avg i think its bcs of displaycam in low light condition is not that much good compared to rmn7pro biggest con is im always scared of camera its pop out back when we place mobile on table then cam is the first thing to be touched to table scratchs also come on cam with this type of cam poped outfront cam is ok no too',\n",
       "  '',\n",
       "  '',\n",
       "  ''],\n",
       " ['the mobile is super smooth in performance,  camera is great for photoholics at very low rate,flipkart has a great delivery speed I recieved it within 2 days of ordering, amazing , really happy with the product'],\n",
       " [\"after using 8 day's my honest review\",\n",
       "  '',\n",
       "  '',\n",
       "  '',\n",
       "  '',\n",
       "  'Display: Very good qualityCamera: Rear camera at day light conditions very good but at low light conditions struggle in pictures',\n",
       "  'Front camera average',\n",
       "  '',\n",
       "  '',\n",
       "  'Battery: Good but not up to the mark in before 4000 mah some Xiaomi device',\n",
       "  \"Gaming: I'm not game lover that's y no comments for gamin performance\",\n",
       "  'Looks: Stunning',\n",
       "  ' just look like a premium device',\n",
       "  'very disappointing for MIUI Adds',\n",
       "  '',\n",
       "  '',\n",
       "  ''],\n",
       " ['phone is good but battery life is worst',\n",
       "  ' 4000MAH not lasting for more than one day',\n",
       "  ' Xiaomi need to work on this',\n",
       "  ' Even with very minimal Internet usage battery drained in 1 Day so it need daily charged',\n",
       "  ' Not recommended as many other good phones available in this price range',\n",
       "  ''],\n",
       " [\"it's good , sound is good no issues like 5 pro\",\n",
       "  'network is better than note 4 ',\n",
       "  'camera is good even in night ',\n",
       "  'but no use of 48 MP camera ',\n",
       "  ''],\n",
       " ['no review']]"
      ]
     },
     "execution_count": 53,
     "metadata": {},
     "output_type": "execute_result"
    }
   ],
   "source": [
    "full_li"
   ]
  },
  {
   "cell_type": "code",
   "execution_count": 49,
   "metadata": {},
   "outputs": [
    {
     "name": "stdout",
     "output_type": "stream",
     "text": [
      "1\n",
      "9\n",
      "------------------------------------------------------------\n",
      "5\n",
      "1\n",
      "------------------------------------------------------------\n",
      "1\n",
      "7\n",
      "------------------------------------------------------------\n",
      "1\n",
      "2\n",
      "------------------------------------------------------------\n",
      "6\n",
      "11\n",
      "------------------------------------------------------------\n",
      "1\n",
      "4\n",
      "------------------------------------------------------------\n",
      "5\n",
      "1\n",
      "------------------------------------------------------------\n",
      "1\n",
      "17\n",
      "------------------------------------------------------------\n",
      "1\n",
      "6\n",
      "------------------------------------------------------------\n",
      "2\n",
      "5\n",
      "------------------------------------------------------------\n",
      "1\n",
      "1\n",
      "------------------------------------------------------------\n"
     ]
    }
   ],
   "source": [
    "for review in review_list:\n",
    "    print(len(review.split(',')))\n",
    "    print(len(review.split('.')))\n",
    "    print('---'*20)"
   ]
  },
  {
   "cell_type": "code",
   "execution_count": null,
   "metadata": {},
   "outputs": [],
   "source": []
  },
  {
   "cell_type": "code",
   "execution_count": null,
   "metadata": {},
   "outputs": [],
   "source": []
  }
 ],
 "metadata": {
  "kernelspec": {
   "display_name": "Python 3.10.11 64-bit ('venv')",
   "language": "python",
   "name": "python3"
  },
  "language_info": {
   "codemirror_mode": {
    "name": "ipython",
    "version": 3
   },
   "file_extension": ".py",
   "mimetype": "text/x-python",
   "name": "python",
   "nbconvert_exporter": "python",
   "pygments_lexer": "ipython3",
   "version": "3.10.11"
  },
  "orig_nbformat": 4,
  "vscode": {
   "interpreter": {
    "hash": "1762875d695c3b8ce31fc2c385c40c45ae7c7b01a87f50658d419512c57bca88"
   }
  }
 },
 "nbformat": 4,
 "nbformat_minor": 2
}
