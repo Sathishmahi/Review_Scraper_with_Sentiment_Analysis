{
 "cells": [
  {
   "cell_type": "code",
   "execution_count": 2,
   "metadata": {},
   "outputs": [],
   "source": [
    "import pandas as pd"
   ]
  },
  {
   "cell_type": "code",
   "execution_count": 34,
   "metadata": {},
   "outputs": [],
   "source": [
    "df=pd.read_csv(\"artifact/data_ingestion/review.csv\")"
   ]
  },
  {
   "cell_type": "code",
   "execution_count": 32,
   "metadata": {},
   "outputs": [
    {
     "data": {
      "text/plain": [
       "Index(['review'], dtype='object')"
      ]
     },
     "execution_count": 32,
     "metadata": {},
     "output_type": "execute_result"
    }
   ],
   "source": [
    "df.columns"
   ]
  },
  {
   "cell_type": "code",
   "execution_count": 27,
   "metadata": {},
   "outputs": [],
   "source": [
    "df['review'][0]=\"🥰🥰🥰🥰🥰Camera quality 🥰🔋😍😍\""
   ]
  },
  {
   "cell_type": "code",
   "execution_count": 28,
   "metadata": {},
   "outputs": [
    {
     "data": {
      "text/plain": [
       "0                              🥰🥰🥰🥰🥰Camera quality 🥰🔋😍😍\n",
       "1     very good mobile,never expected like this good...\n",
       "2     My GF is very happy with this.phone is good lo...\n",
       "3     Camera: very good Battery : I expect betterSou...\n",
       "4     ✓ it's just awesome.✓ worth of money.✓ people ...\n",
       "5     pros : mobile is pretty good with smooth perfo...\n",
       "6     the mobile is super smooth in performance,  ca...\n",
       "7     after using 8 day's my honest review.....Displ...\n",
       "8     phone is good but battery life is worst. 4000M...\n",
       "9     it's good , sound is good no issues like 5 pro...\n",
       "10                                            no review\n",
       "Name: review, dtype: object"
      ]
     },
     "execution_count": 28,
     "metadata": {},
     "output_type": "execute_result"
    }
   ],
   "source": [
    "df['review']"
   ]
  },
  {
   "cell_type": "code",
   "execution_count": null,
   "metadata": {},
   "outputs": [],
   "source": [
    "df['review'].apply(lambda s : s.encode('ascii','ignore').decode())\n"
   ]
  },
  {
   "cell_type": "code",
   "execution_count": 35,
   "metadata": {},
   "outputs": [],
   "source": [
    "df=pd.read_csv(\"artifact/data_ingestion/review.csv\",usecols=['review'])"
   ]
  },
  {
   "cell_type": "code",
   "execution_count": 44,
   "metadata": {},
   "outputs": [],
   "source": [
    "def demo(a:tuple[list]):\n",
    "    ...\n",
    "demo('je')"
   ]
  },
  {
   "cell_type": "code",
   "execution_count": 45,
   "metadata": {},
   "outputs": [],
   "source": [
    "review_list=pd.Series(df.iloc[:,0]).to_list()"
   ]
  },
  {
   "cell_type": "code",
   "execution_count": 46,
   "metadata": {},
   "outputs": [],
   "source": [
    "com_li,full_li=[],[]\n",
    "for review in review_list:\n",
    "    com_li.append(review.split(','))\n",
    "    full_li.append(review.split('.'))"
   ]
  },
  {
   "cell_type": "code",
   "execution_count": 52,
   "metadata": {},
   "outputs": [],
   "source": [
    "com_li,full_li=[],[]\n",
    "nothing=[(com_li.append(review.split(',')),full_li.append(review.split('.'))) for review in review_list ]\n",
    "del nothing"
   ]
  },
  {
   "cell_type": "code",
   "execution_count": 53,
   "metadata": {},
   "outputs": [
    {
     "data": {
      "text/plain": [
       "[['Here is my first impressions after a few days of usage of Redmi Note 7S mobile phone',\n",
       "  ' I bought 4GB of RAM and 64GB storage variant',\n",
       "  ' Pros: * The build quality of the Redmi Note 7S is great considering its price',\n",
       "  ' The overall fit and finish is impeccable and all the metal and glass does make the Note 7S look and feel in hands a more premium phone',\n",
       "  ' * It has corning gorilla glass 5 protection at the front as well as back',\n",
       "  '* The display sports a full HD+ (1080x2340 pixels) resolution and has a ',\n",
       "  '',\n",
       "  '',\n",
       "  ''],\n",
       " ['very good mobile,never expected like this good one from Xiaomi, thank you to Flipkart, delivery was good and the delivery person is ,so good'],\n",
       " ['My GF is very happy with this',\n",
       "  'phone is good look is also goodcamera is also very good better option for note 7 pro',\n",
       "  'go for it',\n",
       "  'camera',\n",
       "  ' 4',\n",
       "  '5battery 4display 4value for money 4',\n",
       "  '8'],\n",
       " ['Camera: very good Battery : I expect betterSound',\n",
       "  ' : is perfectly fine Overall performance everything is perfect from my part'],\n",
       " [\"✓ it's just awesome\",\n",
       "  '✓ worth of money',\n",
       "  \"✓ people who look for all like cam, battery, Ram, ROM    price it's fit for that\",\n",
       "  \"✓ it's closer to note 7,7pro 4gb ram because of just  small difference in , processor is 672 but 7s has 660 but costs 2000rs less\",\n",
       "  '✓ clock speed is 2',\n",
       "  '2GHZ in which 7pro has 2GHZ',\n",
       "  '✓ Just 70min for full charge from 5-100%',\n",
       "  '✓ Thank you Flipkart',\n",
       "  '✓ All Rounder product',\n",
       "  '✓ prefer black or white',\n",
       "  ''],\n",
       " ['pros : mobile is pretty good with smooth performance and good display camera is good under light conditions avg in low light conditions no hanging of mobilecons :battery is avg i think its bcs of displaycam in low light condition is not that much good compared to rmn7pro biggest con is im always scared of camera its pop out back when we place mobile on table then cam is the first thing to be touched to table scratchs also come on cam with this type of cam poped outfront cam is ok no too',\n",
       "  '',\n",
       "  '',\n",
       "  ''],\n",
       " ['the mobile is super smooth in performance,  camera is great for photoholics at very low rate,flipkart has a great delivery speed I recieved it within 2 days of ordering, amazing , really happy with the product'],\n",
       " [\"after using 8 day's my honest review\",\n",
       "  '',\n",
       "  '',\n",
       "  '',\n",
       "  '',\n",
       "  'Display: Very good qualityCamera: Rear camera at day light conditions very good but at low light conditions struggle in pictures',\n",
       "  'Front camera average',\n",
       "  '',\n",
       "  '',\n",
       "  'Battery: Good but not up to the mark in before 4000 mah some Xiaomi device',\n",
       "  \"Gaming: I'm not game lover that's y no comments for gamin performance\",\n",
       "  'Looks: Stunning',\n",
       "  ' just look like a premium device',\n",
       "  'very disappointing for MIUI Adds',\n",
       "  '',\n",
       "  '',\n",
       "  ''],\n",
       " ['phone is good but battery life is worst',\n",
       "  ' 4000MAH not lasting for more than one day',\n",
       "  ' Xiaomi need to work on this',\n",
       "  ' Even with very minimal Internet usage battery drained in 1 Day so it need daily charged',\n",
       "  ' Not recommended as many other good phones available in this price range',\n",
       "  ''],\n",
       " [\"it's good , sound is good no issues like 5 pro\",\n",
       "  'network is better than note 4 ',\n",
       "  'camera is good even in night ',\n",
       "  'but no use of 48 MP camera ',\n",
       "  ''],\n",
       " ['no review']]"
      ]
     },
     "execution_count": 53,
     "metadata": {},
     "output_type": "execute_result"
    }
   ],
   "source": [
    "full_li"
   ]
  },
  {
   "cell_type": "code",
   "execution_count": null,
   "metadata": {},
   "outputs": [],
   "source": [
    "for review in review_list:\n",
    "    print(len(review.split(',')))\n",
    "    print(len(review.split('.')))\n",
    "    print('---'*20)"
   ]
  },
  {
   "cell_type": "code",
   "execution_count": 2,
   "metadata": {},
   "outputs": [],
   "source": [
    "import pickle\n",
    "from collections import namedtuple\n",
    "demo=namedtuple(\"name\",[\n",
    "    \"name\",\n",
    "    \"age\",\n",
    "    \"mark_list\",\n",
    "    \"some_list\"\n",
    "])\n",
    "\n",
    "demo_1=demo(\n",
    "\"sathish\",\n",
    "12,\n",
    "[12,13,1,34,34,12],\n",
    "[3838,\"dajdj\",\"ud\"]\n",
    ")"
   ]
  },
  {
   "cell_type": "code",
   "execution_count": 14,
   "metadata": {},
   "outputs": [],
   "source": [
    "demo=pd.Series({\n",
    "    \"name\":[1,2,3,3,3,2,1,1,1,2,1,1,2,2,2,2,2]\n",
    "})\n",
    "with open(\"demo.pkl\",'wb') as f:\n",
    "    pickle.dump(demo,f)"
   ]
  },
  {
   "cell_type": "code",
   "execution_count": 15,
   "metadata": {},
   "outputs": [],
   "source": [
    "with open(\"demo.pkl\",'rb') as f:\n",
    "    con=pickle.load(f)"
   ]
  },
  {
   "cell_type": "code",
   "execution_count": 19,
   "metadata": {},
   "outputs": [
    {
     "data": {
      "text/plain": [
       "pandas.core.series.Series"
      ]
     },
     "execution_count": 19,
     "metadata": {},
     "output_type": "execute_result"
    }
   ],
   "source": [
    "type(con)"
   ]
  },
  {
   "cell_type": "markdown",
   "metadata": {},
   "source": []
  },
  {
   "cell_type": "code",
   "execution_count": 12,
   "metadata": {},
   "outputs": [
    {
     "data": {
      "text/plain": [
       "column_1    [1, 2, 3, 3, 4, 4, 4, 4, 3, 3, 3, 3, 3]\n",
       "dtype: object"
      ]
     },
     "execution_count": 12,
     "metadata": {},
     "output_type": "execute_result"
    }
   ],
   "source": [
    "import pandas as pd\n",
    "pd.Series({\n",
    "    \"column_1\":[1,2,3,3,4,4,4,4,3,3,3,3,3]\n",
    "})"
   ]
  },
  {
   "cell_type": "code",
   "execution_count": 33,
   "metadata": {},
   "outputs": [],
   "source": [
    "with open(\"/config/workspace/artifact/review_split/split_review_dir/camera.pkl\",\"rb\") as f:\n",
    "    content=pickle.load(f)"
   ]
  },
  {
   "cell_type": "code",
   "execution_count": 57,
   "metadata": {},
   "outputs": [],
   "source": [
    "from thefuzz import fuzz\n",
    "def to_remove_duplicates(duplicate_review_list:list[str],similarity_score:float=75.0):\n",
    "    duplicate_review_list_copy=list(set(duplicate_review_list.copy()))\n",
    "    to_return_min_len=lambda sen1,sen2: sen1 if len(sen1)<len(sen2) else sen2\n",
    "    for i in duplicate_review_list_copy:\n",
    "            for j in duplicate_review_list_copy:\n",
    "                if i!=j and fuzz.partial_ratio(i,j)>similarity_score:\n",
    "                    s=to_return_min_len(i,j)\n",
    "                    print(s)\n",
    "                    duplicate_review_list_copy.remove(s)"
   ]
  },
  {
   "cell_type": "code",
   "execution_count": 58,
   "metadata": {},
   "outputs": [
    {
     "name": "stdout",
     "output_type": "stream",
     "text": [
      "i am sathish\n"
     ]
    }
   ],
   "source": [
    "to_remove_duplicates([\"hello i am sathish\",\"hello sath\",\"i am sathish\"])\n",
    "a=[1,1,2,1,2,1]\n",
    "b=a.copy()"
   ]
  },
  {
   "cell_type": "code",
   "execution_count": 59,
   "metadata": {},
   "outputs": [],
   "source": [
    "li=[' battery', 'phone is good but battery life is worst. 4000MAH not lasting for more than one day. Xiaomi need to work on this. Even with very minimal Internet usage battery drained in 1 Day so it need daily charged. Not recommended as many other good phones available in this price range.', '5battery 4display 4value for money 4', \"✓ people who look for all like cam, battery, Ram, ROM    price it's fit for that\", 'phone is good but battery life is worst', ' Even with very minimal Internet usage battery drained in 1 Day so it need daily charged']\n",
    "li2=['Here is my first impressions after a few days of usage of Redmi Note 7S mobile phone. I bought 4GB of RAM and 64GB storage variant. Pros: * The build quality of the Redmi Note 7S is great considering its price. The overall fit and finish is impeccable and all the metal and glass does make the Note 7S look and feel in hands a more premium phone. * It has corning gorilla glass 5 protection at the front as well as back.* The display sports a full HD+ (1080x2340 pixels) resolution and has a ...', '* The display sports a full HD+ (1080x2340 pixels) resolution and has a ']\n",
    "li3=['very good mobile', 'never expected like this good one from Xiaomi', ' thank you to Flipkart', ' delivery was good and the delivery person is ', 'so good', 'Camera: very good Battery : I expect betterSound. : is perfectly fine Overall performance everything is perfect from my part', \"✓ it's just awesome.✓ worth of money.✓ people who look for all like cam\", ' Ram', \" ROM    price it's fit for that.✓ it's closer to note 7\", '7pro 4gb ram because of just  small difference in ', ' processor is 672 but 7s has 660 but costs 2000rs less.✓ clock speed is 2.2GHZ in which 7pro has 2GHZ.✓ Just 70min for full charge from 5-100%.✓ Thank you Flipkart.✓ All Rounder product.✓ prefer black or white.', 'the mobile is super smooth in performance', 'flipkart has a great delivery speed I recieved it within 2 days of ordering', ' amazing ', ' really happy with the product', \"it's good \", 'no review', 'Here is my first impressions after a few days of usage of Redmi Note 7S mobile phone', ' I bought 4GB of RAM and 64GB storage variant', ' Pros: * The build quality of the Redmi Note 7S is great considering its price', ' The overall fit and finish is impeccable and all the metal and glass does make the Note 7S look and feel in hands a more premium phone', ' * It has corning gorilla glass 5 protection at the front as well as back', 'very good mobile,never expected like this good one from Xiaomi, thank you to Flipkart, delivery was good and the delivery person is ,so good', 'My GF is very happy with this', 'go for it', ' 4', '8', 'Camera: very good Battery : I expect betterSound', ' : is perfectly fine Overall performance everything is perfect from my part', \"✓ it's just awesome\", '✓ worth of money', \"✓ it's closer to note 7,7pro 4gb ram because of just  small difference in , processor is 672 but 7s has 660 but costs 2000rs less\", '✓ clock speed is 2', '2GHZ in which 7pro has 2GHZ', '✓ Just 70min for full charge from 5-100%', '✓ Thank you Flipkart', '✓ All Rounder product', '✓ prefer black or white', \"after using 8 day's my honest review\", 'Battery: Good but not up to the mark in before 4000 mah some Xiaomi device', \"Gaming: I'm not game lover that's y no comments for gamin performance\", 'Looks: Stunning', ' just look like a premium device', 'very disappointing for MIUI Adds', ' 4000MAH not lasting for more than one day', ' Xiaomi need to work on this', ' Not recommended as many other good phones available in this price range', \"it's good , sound is good no issues like 5 pro\", 'network is better than note 4 ', 'no review']"
   ]
  },
  {
   "cell_type": "code",
   "execution_count": null,
   "metadata": {},
   "outputs": [],
   "source": [
    "to_remove_duplicates(li3)"
   ]
  },
  {
   "cell_type": "code",
   "execution_count": 62,
   "metadata": {},
   "outputs": [],
   "source": [
    "li=[1,2,2,2,1]\n",
    "li.remove(1)"
   ]
  },
  {
   "cell_type": "code",
   "execution_count": null,
   "metadata": {},
   "outputs": [],
   "source": [
    "from colorlog import ColoredFormatter\n",
    "import logging\n",
    "LOGFORMAT = \"  %(log_color)s%(levelname)-8s%(reset)s | %(log_color)s%(message)s%(reset)s\"\n",
    "formatter = ColoredFormatter(LOGFORMAT)\n",
    "logging.basicConfig(\n",
    "    filename=\"demo.log\",\n",
    "    level=logging.DEBUG,\n",
    "    format=formatter\n",
    ")\n",
    "logging.info(\"hello\")"
   ]
  },
  {
   "cell_type": "code",
   "execution_count": 69,
   "metadata": {},
   "outputs": [],
   "source": [
    "# pip install coloredlogs"
   ]
  },
  {
   "cell_type": "code",
   "execution_count": 72,
   "metadata": {},
   "outputs": [],
   "source": [
    "#  pip install colorama"
   ]
  },
  {
   "cell_type": "code",
   "execution_count": null,
   "metadata": {},
   "outputs": [],
   "source": []
  }
 ],
 "metadata": {
  "kernelspec": {
   "display_name": "Python 3.10.11 64-bit ('venv')",
   "language": "python",
   "name": "python3"
  },
  "language_info": {
   "codemirror_mode": {
    "name": "ipython",
    "version": 3
   },
   "file_extension": ".py",
   "mimetype": "text/x-python",
   "name": "python",
   "nbconvert_exporter": "python",
   "pygments_lexer": "ipython3",
   "version": "3.10.11"
  },
  "orig_nbformat": 4,
  "vscode": {
   "interpreter": {
    "hash": "1762875d695c3b8ce31fc2c385c40c45ae7c7b01a87f50658d419512c57bca88"
   }
  }
 },
 "nbformat": 4,
 "nbformat_minor": 2
}
