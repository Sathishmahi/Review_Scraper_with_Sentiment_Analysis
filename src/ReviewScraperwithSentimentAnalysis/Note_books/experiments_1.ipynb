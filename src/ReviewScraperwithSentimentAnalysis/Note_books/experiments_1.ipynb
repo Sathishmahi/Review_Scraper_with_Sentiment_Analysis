{
 "cells": [
  {
   "cell_type": "code",
   "execution_count": 1,
   "metadata": {},
   "outputs": [],
   "source": [
    "import pandas as pd\n",
    "df=pd.read_csv('/config/workspace/demo.csv')"
   ]
  },
  {
   "cell_type": "code",
   "execution_count": 2,
   "metadata": {},
   "outputs": [
    {
     "data": {
      "text/html": [
       "<div>\n",
       "<style scoped>\n",
       "    .dataframe tbody tr th:only-of-type {\n",
       "        vertical-align: middle;\n",
       "    }\n",
       "\n",
       "    .dataframe tbody tr th {\n",
       "        vertical-align: top;\n",
       "    }\n",
       "\n",
       "    .dataframe thead th {\n",
       "        text-align: right;\n",
       "    }\n",
       "</style>\n",
       "<table border=\"1\" class=\"dataframe\">\n",
       "  <thead>\n",
       "    <tr style=\"text-align: right;\">\n",
       "      <th></th>\n",
       "      <th>reviews</th>\n",
       "    </tr>\n",
       "  </thead>\n",
       "  <tbody>\n",
       "    <tr>\n",
       "      <th>0</th>\n",
       "      <td>...I simply love it🥰🥰🥰🥰🥰Camera quality 🥰🔋😍😍Ver</td>\n",
       "    </tr>\n",
       "    <tr>\n",
       "      <th>1</th>\n",
       "      <td>...Excellent Feacture And Camera And Mobile</td>\n",
       "    </tr>\n",
       "    <tr>\n",
       "      <th>2</th>\n",
       "      <td>...Powerful hardware with the A16 chip. Improv...</td>\n",
       "    </tr>\n",
       "    <tr>\n",
       "      <th>3</th>\n",
       "      <td>...Best in the market. Camera quality awesome ...</td>\n",
       "    </tr>\n",
       "    <tr>\n",
       "      <th>4</th>\n",
       "      <td>...to use and handy. Great performance too. Ca...</td>\n",
       "    </tr>\n",
       "  </tbody>\n",
       "</table>\n",
       "</div>"
      ],
      "text/plain": [
       "                                             reviews\n",
       "0     ...I simply love it🥰🥰🥰🥰🥰Camera quality 🥰🔋😍😍Ver\n",
       "1        ...Excellent Feacture And Camera And Mobile\n",
       "2  ...Powerful hardware with the A16 chip. Improv...\n",
       "3  ...Best in the market. Camera quality awesome ...\n",
       "4  ...to use and handy. Great performance too. Ca..."
      ]
     },
     "execution_count": 2,
     "metadata": {},
     "output_type": "execute_result"
    }
   ],
   "source": [
    "df.head()"
   ]
  },
  {
   "cell_type": "code",
   "execution_count": 4,
   "metadata": {},
   "outputs": [],
   "source": [
    "# !pip install clean-text"
   ]
  },
  {
   "cell_type": "code",
   "execution_count": 10,
   "metadata": {},
   "outputs": [
    {
     "data": {
      "text/plain": [
       "reviews    ...I simply love it🥰🥰🥰🥰🥰Camera quality 🥰🔋😍😍Ver\n",
       "Name: 0, dtype: object"
      ]
     },
     "execution_count": 10,
     "metadata": {},
     "output_type": "execute_result"
    }
   ],
   "source": [
    "pd.set_option('display.max_columns', None)\n",
    "df.iloc[0]"
   ]
  },
  {
   "cell_type": "code",
   "execution_count": 7,
   "metadata": {},
   "outputs": [
    {
     "name": "stdout",
     "output_type": "stream",
     "text": [
      "Collecting Unidecode\n",
      "  Downloading Unidecode-1.3.6-py3-none-any.whl (235 kB)\n",
      "\u001b[2K     \u001b[90m━━━━━━━━━━━━━━━━━━━━━━━━━━━━━━━━━━━━━━\u001b[0m \u001b[32m235.9/235.9 kB\u001b[0m \u001b[31m19.9 MB/s\u001b[0m eta \u001b[36m0:00:00\u001b[0m\n",
      "\u001b[?25hInstalling collected packages: Unidecode\n",
      "Successfully installed Unidecode-1.3.6\n"
     ]
    },
    {
     "data": {
      "text/plain": [
       "'i simply love itcamera quality ver'"
      ]
     },
     "execution_count": 7,
     "metadata": {},
     "output_type": "execute_result"
    }
   ],
   "source": [
    "!pip install Unidecode\n",
    "from cleantext import clean\n",
    "clean(\"I simply love it🥰🥰🥰🥰🥰Camera quality 🥰🔋😍😍Ver\", no_emoji=True,)"
   ]
  },
  {
   "cell_type": "code",
   "execution_count": 23,
   "metadata": {},
   "outputs": [
    {
     "data": {
      "text/plain": [
       "' /0x41'"
      ]
     },
     "execution_count": 23,
     "metadata": {},
     "output_type": "execute_result"
    }
   ],
   "source": [
    "from unidecode import unidecode\n",
    "unidecode(\" /0x41\")"
   ]
  },
  {
   "cell_type": "code",
   "execution_count": 27,
   "metadata": {},
   "outputs": [
    {
     "data": {
      "text/plain": [
       "'I simply love itCamera quality Ver'"
      ]
     },
     "execution_count": 27,
     "metadata": {},
     "output_type": "execute_result"
    }
   ],
   "source": [
    "str_=\"I simply love it🥰🥰🥰🥰🥰Camera quality 🥰🔋😍😍Ver\"\n",
    "str_.encode(\"ascii\", \"ignore\").decode()"
   ]
  },
  {
   "cell_type": "code",
   "execution_count": 28,
   "metadata": {},
   "outputs": [
    {
     "name": "stdout",
     "output_type": "stream",
     "text": [
      "/\n"
     ]
    }
   ],
   "source": [
    "cd /"
   ]
  },
  {
   "cell_type": "code",
   "execution_count": 5,
   "metadata": {},
   "outputs": [
    {
     "name": "stdout",
     "output_type": "stream",
     "text": [
      "/config/workspace\n"
     ]
    }
   ],
   "source": [
    "cd .."
   ]
  },
  {
   "cell_type": "code",
   "execution_count": 6,
   "metadata": {},
   "outputs": [],
   "source": [
    "from ReviewScraperwithSentimentAnalysis.components.data_ingestion_single import toExtractReviewsSingle\n"
   ]
  },
  {
   "cell_type": "code",
   "execution_count": null,
   "metadata": {},
   "outputs": [],
   "source": [
    "price=['₹10,970', '₹11,999', '₹13,999', '₹11,999', '₹13,999', '₹13,999', '₹13,999', '₹11,999', '₹11,990', '₹15,999', '₹15,999', '₹17,599', '₹14,990']\n",
    "off=['8% off', '20% off', '20% off', '16% off', '16% off', '20% off']"
   ]
  },
  {
   "cell_type": "code",
   "execution_count": null,
   "metadata": {},
   "outputs": [],
   "source": [
    "toExtractReviewsSingle('redminote7s')"
   ]
  },
  {
   "cell_type": "code",
   "execution_count": 7,
   "metadata": {},
   "outputs": [],
   "source": [
    "from urllib.request import urlopen as uReq\n",
    "from bs4 import BeautifulSoup as bs\n",
    "con=uReq(\"https://www.flipkart.com/search?q=redminote7s&otracker=search&otracker1=search&marketplace=FLIPKART&as-show=off&as=off\")\n",
    "raw_info=con.read()\n",
    "con.close()\n",
    "html_con=bs(raw_info,\"html.parser\")"
   ]
  },
  {
   "cell_type": "code",
   "execution_count": 8,
   "metadata": {},
   "outputs": [],
   "source": [
    "cost_off=html_con.findAll(\"div\",{\"class\":\"_25b18c\"})"
   ]
  },
  {
   "cell_type": "code",
   "execution_count": 20,
   "metadata": {},
   "outputs": [
    {
     "data": {
      "text/plain": [
       "[]"
      ]
     },
     "execution_count": 20,
     "metadata": {},
     "output_type": "execute_result"
    }
   ],
   "source": [
    "cost_off[0].findAll(\"div\",{\"class\":off_cl})"
   ]
  },
  {
   "cell_type": "code",
   "execution_count": null,
   "metadata": {},
   "outputs": [],
   "source": [
    "over_all=html_con.findAll(\"div\",{\"class\":\"_2kHMtA\"})\n",
    "model_name_class=\"_4rR01T\"\n",
    "model_name_el_type=\"div\"\n",
    "over_all_reviews_class=\"_3LWZlK\"\n",
    "over_all_reviews_el_type=\"div\"\n",
    "model_details_class=\"rgWa7D\"\n",
    "model_details_el_type=\"li\"\n",
    "img_class=\"_396cs4\"\n",
    "img_el_type=\"img\"\n",
    "free_delivery_class=\"_2Tpdn3\"\n",
    "free_delivery_el_type=\"div\"\n",
    "bank_offer_class=\"_2Tpdn3 _18hQoS\"\n",
    "bank_offer_el_type=\"div\"\n",
    "for con in over_all:\n",
    "    print(con.findAll(model_name_el_type,{\"class\":model_name_class})[0].text)\n",
    "    print(con.findAll(over_all_reviews_el_type,{\"class\":over_all_reviews_class})[0].text)\n",
    "    print(con.findAll(img_el_type,{\"class\":img_class})[0]['src'])\n",
    "    print(con.findAll(free_delivery_el_type,{\"class\":free_delivery_class})[0].div)\n",
    "    over_all_product_details=' '.join([detail.text for detail in con.findAll(model_details_el_type,{\"class\":model_details_class})])\n",
    "    print(over_all_product_details)"
   ]
  },
  {
   "cell_type": "code",
   "execution_count": null,
   "metadata": {},
   "outputs": [],
   "source": [
    "cost_cl=\"_30jeq3 _1_WHN1\"\n",
    "off_cl=\"_3Ay6Sb\"\n",
    "# [(con.findAll(\"div\",{\"class\":cost_cl})) for con in cost_off]\n",
    "\n",
    "for con in cost_off:\n",
    "    cost=con.findAll(\"div\",{\"class\":cost_cl})\n",
    "    offer=con.findAll(\"div\",{\"class\":off_cl})\n",
    "    if cost:\n",
    "        print(cost[0].text)\n",
    "    if offer:\n",
    "        print(offer[0].span.text)\n",
    "    \n",
    "    "
   ]
  },
  {
   "cell_type": "code",
   "execution_count": 1,
   "metadata": {},
   "outputs": [
    {
     "data": {
      "text/plain": [
       "'sathish'"
      ]
     },
     "execution_count": 1,
     "metadata": {},
     "output_type": "execute_result"
    }
   ],
   "source": [
    "demoFun=lambda a: a.lower() if isinstance(a,str) else \"enter str\"\n",
    "demoFun(\"Sathish\")"
   ]
  },
  {
   "cell_type": "code",
   "execution_count": null,
   "metadata": {},
   "outputs": [],
   "source": []
  }
 ],
 "metadata": {
  "kernelspec": {
   "display_name": "Python 3.7.0 64-bit ('venv')",
   "language": "python",
   "name": "python3"
  },
  "language_info": {
   "codemirror_mode": {
    "name": "ipython",
    "version": 3
   },
   "file_extension": ".py",
   "mimetype": "text/x-python",
   "name": "python",
   "nbconvert_exporter": "python",
   "pygments_lexer": "ipython3",
   "version": "3.10.11"
  },
  "orig_nbformat": 4,
  "vscode": {
   "interpreter": {
    "hash": "1762875d695c3b8ce31fc2c385c40c45ae7c7b01a87f50658d419512c57bca88"
   }
  }
 },
 "nbformat": 4,
 "nbformat_minor": 2
}
